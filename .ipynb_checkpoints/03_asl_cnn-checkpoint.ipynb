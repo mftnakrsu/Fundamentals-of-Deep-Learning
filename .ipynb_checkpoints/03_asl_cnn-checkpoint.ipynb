{
 "cells": [
  {
   "cell_type": "markdown",
   "metadata": {},
   "source": [
    "# Convolutional Neural Networks"
   ]
  },
  {
   "cell_type": "markdown",
   "metadata": {},
   "source": [
    "## Objectives"
   ]
  },
  {
   "cell_type": "markdown",
   "metadata": {},
   "source": [
    "* Prep data specifically for a CNN\n",
    "* Create a more sophisticated CNN model, understanding a greater variety of model layers\n",
    "* Train a CNN model and observe its performance"
   ]
  },
  {
   "cell_type": "markdown",
   "metadata": {},
   "source": [
    "## Loading and Preparing the Data"
   ]
  },
  {
   "cell_type": "code",
   "execution_count": 1,
   "metadata": {},
   "outputs": [],
   "source": [
    "import tensorflow.keras as keras\n",
    "import pandas as pd\n",
    "\n",
    "# Load in our data from CSV files\n",
    "train_df = pd.read_csv(\"asl_data/sign_mnist_train.csv\")\n",
    "valid_df = pd.read_csv(\"asl_data/sign_mnist_valid.csv\")\n",
    "\n",
    "# Separate out our target values\n",
    "y_train = train_df['label']\n",
    "y_valid = valid_df['label']\n",
    "del train_df['label']\n",
    "del valid_df['label']\n",
    "\n",
    "# Separate out our image vectors\n",
    "x_train = train_df.values\n",
    "x_valid = valid_df.values\n",
    "\n",
    "# Turn our scalar targets into binary categories\n",
    "num_classes = 24\n",
    "y_train = keras.utils.to_categorical(y_train, num_classes)\n",
    "y_valid = keras.utils.to_categorical(y_valid, num_classes)\n",
    "\n",
    "# Normalize our image data\n",
    "x_train = x_train / 255\n",
    "x_valid = x_valid / 255"
   ]
  },
  {
   "cell_type": "markdown",
   "metadata": {},
   "source": [
    "## Reshaping Images for a CNN"
   ]
  },
  {
   "cell_type": "code",
   "execution_count": 2,
   "metadata": {},
   "outputs": [
    {
     "data": {
      "text/plain": [
       "((27455, 784), (7172, 784))"
      ]
     },
     "execution_count": 2,
     "metadata": {},
     "output_type": "execute_result"
    }
   ],
   "source": [
    "x_train.shape, x_valid.shape"
   ]
  },
  {
   "cell_type": "code",
   "execution_count": 3,
   "metadata": {},
   "outputs": [],
   "source": [
    "x_train = x_train.reshape(-1,28,28,1)\n",
    "x_valid = x_valid.reshape(-1,28,28,1)"
   ]
  },
  {
   "cell_type": "code",
   "execution_count": 4,
   "metadata": {},
   "outputs": [
    {
     "data": {
      "text/plain": [
       "(27455, 28, 28, 1)"
      ]
     },
     "execution_count": 4,
     "metadata": {},
     "output_type": "execute_result"
    }
   ],
   "source": [
    "x_train.shape"
   ]
  },
  {
   "cell_type": "code",
   "execution_count": 5,
   "metadata": {},
   "outputs": [
    {
     "data": {
      "text/plain": [
       "(7172, 28, 28, 1)"
      ]
     },
     "execution_count": 5,
     "metadata": {},
     "output_type": "execute_result"
    }
   ],
   "source": [
    "x_valid.shape"
   ]
  },
  {
   "cell_type": "code",
   "execution_count": 6,
   "metadata": {},
   "outputs": [
    {
     "data": {
      "text/plain": [
       "((27455, 28, 28, 1), (7172, 28, 28, 1))"
      ]
     },
     "execution_count": 6,
     "metadata": {},
     "output_type": "execute_result"
    }
   ],
   "source": [
    "x_train.shape, x_valid.shape"
   ]
  },
  {
   "cell_type": "markdown",
   "metadata": {},
   "source": [
    "## Creating a Convolutional Model"
   ]
  },
  {
   "cell_type": "code",
   "execution_count": 7,
   "metadata": {},
   "outputs": [],
   "source": [
    "from tensorflow.keras.models import Sequential\n",
    "from tensorflow.keras.layers import (\n",
    "    Dense,\n",
    "    Conv2D,\n",
    "    MaxPool2D,\n",
    "    Flatten,\n",
    "    Dropout,\n",
    "    BatchNormalization,\n",
    ")\n",
    "\n",
    "model = Sequential()\n",
    "model.add(Conv2D(75, (3, 3), strides=1, padding=\"same\", activation=\"relu\", \n",
    "                 input_shape=(28, 28, 1)))\n",
    "model.add(BatchNormalization())\n",
    "model.add(MaxPool2D((2, 2), strides=2, padding=\"same\"))\n",
    "model.add(Conv2D(50, (3, 3), strides=1, padding=\"same\", activation=\"relu\"))\n",
    "model.add(Dropout(0.2))\n",
    "model.add(BatchNormalization())\n",
    "model.add(MaxPool2D((2, 2), strides=2, padding=\"same\"))\n",
    "model.add(Conv2D(25, (3, 3), strides=1, padding=\"same\", activation=\"relu\"))\n",
    "model.add(BatchNormalization())\n",
    "model.add(MaxPool2D((2, 2), strides=2, padding=\"same\"))\n",
    "model.add(Flatten())\n",
    "model.add(Dense(units=512, activation=\"relu\"))\n",
    "model.add(Dropout(0.3))\n",
    "model.add(Dense(units=num_classes, activation=\"softmax\"))"
   ]
  },
  {
   "cell_type": "markdown",
   "metadata": {},
   "source": [
    "## Summarizing the Model"
   ]
  },
  {
   "cell_type": "code",
   "execution_count": 8,
   "metadata": {},
   "outputs": [
    {
     "name": "stdout",
     "output_type": "stream",
     "text": [
      "Model: \"sequential\"\n",
      "_________________________________________________________________\n",
      "Layer (type)                 Output Shape              Param #   \n",
      "=================================================================\n",
      "conv2d (Conv2D)              (None, 28, 28, 75)        750       \n",
      "_________________________________________________________________\n",
      "batch_normalization (BatchNo (None, 28, 28, 75)        300       \n",
      "_________________________________________________________________\n",
      "max_pooling2d (MaxPooling2D) (None, 14, 14, 75)        0         \n",
      "_________________________________________________________________\n",
      "conv2d_1 (Conv2D)            (None, 14, 14, 50)        33800     \n",
      "_________________________________________________________________\n",
      "dropout (Dropout)            (None, 14, 14, 50)        0         \n",
      "_________________________________________________________________\n",
      "batch_normalization_1 (Batch (None, 14, 14, 50)        200       \n",
      "_________________________________________________________________\n",
      "max_pooling2d_1 (MaxPooling2 (None, 7, 7, 50)          0         \n",
      "_________________________________________________________________\n",
      "conv2d_2 (Conv2D)            (None, 7, 7, 25)          11275     \n",
      "_________________________________________________________________\n",
      "batch_normalization_2 (Batch (None, 7, 7, 25)          100       \n",
      "_________________________________________________________________\n",
      "max_pooling2d_2 (MaxPooling2 (None, 4, 4, 25)          0         \n",
      "_________________________________________________________________\n",
      "flatten (Flatten)            (None, 400)               0         \n",
      "_________________________________________________________________\n",
      "dense (Dense)                (None, 512)               205312    \n",
      "_________________________________________________________________\n",
      "dropout_1 (Dropout)          (None, 512)               0         \n",
      "_________________________________________________________________\n",
      "dense_1 (Dense)              (None, 24)                12312     \n",
      "=================================================================\n",
      "Total params: 264,049\n",
      "Trainable params: 263,749\n",
      "Non-trainable params: 300\n",
      "_________________________________________________________________\n"
     ]
    }
   ],
   "source": [
    "model.summary()"
   ]
  },
  {
   "cell_type": "markdown",
   "metadata": {},
   "source": [
    "## Compiling the Model"
   ]
  },
  {
   "cell_type": "code",
   "execution_count": 9,
   "metadata": {},
   "outputs": [],
   "source": [
    "model.compile(loss=\"categorical_crossentropy\", metrics=[\"accuracy\"])"
   ]
  },
  {
   "cell_type": "markdown",
   "metadata": {},
   "source": [
    "## Training the Model"
   ]
  },
  {
   "cell_type": "code",
   "execution_count": 10,
   "metadata": {},
   "outputs": [
    {
     "name": "stdout",
     "output_type": "stream",
     "text": [
      "Epoch 1/20\n",
      "858/858 [==============================] - 5s 6ms/step - loss: 0.2994 - accuracy: 0.9087 - val_loss: 0.2759 - val_accuracy: 0.9261\n",
      "Epoch 2/20\n",
      "858/858 [==============================] - 5s 5ms/step - loss: 0.0181 - accuracy: 0.9943 - val_loss: 0.5584 - val_accuracy: 0.8839\n",
      "Epoch 3/20\n",
      "858/858 [==============================] - 5s 5ms/step - loss: 0.0093 - accuracy: 0.9968 - val_loss: 0.1978 - val_accuracy: 0.9590\n",
      "Epoch 4/20\n",
      "858/858 [==============================] - 5s 5ms/step - loss: 0.0086 - accuracy: 0.9977 - val_loss: 0.4737 - val_accuracy: 0.9085\n",
      "Epoch 5/20\n",
      "858/858 [==============================] - 5s 5ms/step - loss: 0.0046 - accuracy: 0.9984 - val_loss: 0.2601 - val_accuracy: 0.9501\n",
      "Epoch 6/20\n",
      "858/858 [==============================] - 5s 5ms/step - loss: 0.0049 - accuracy: 0.9989 - val_loss: 0.3582 - val_accuracy: 0.9380\n",
      "Epoch 7/20\n",
      "858/858 [==============================] - 5s 5ms/step - loss: 0.0042 - accuracy: 0.9987 - val_loss: 0.2778 - val_accuracy: 0.9416\n",
      "Epoch 8/20\n",
      "858/858 [==============================] - 5s 5ms/step - loss: 0.0033 - accuracy: 0.9991 - val_loss: 0.3258 - val_accuracy: 0.9310\n",
      "Epoch 9/20\n",
      "858/858 [==============================] - 5s 5ms/step - loss: 0.0024 - accuracy: 0.9993 - val_loss: 0.3721 - val_accuracy: 0.9350\n",
      "Epoch 10/20\n",
      "858/858 [==============================] - 5s 5ms/step - loss: 0.0026 - accuracy: 0.9995 - val_loss: 0.5355 - val_accuracy: 0.9126\n",
      "Epoch 11/20\n",
      "858/858 [==============================] - 5s 5ms/step - loss: 0.0014 - accuracy: 0.9994 - val_loss: 0.4864 - val_accuracy: 0.9336\n",
      "Epoch 12/20\n",
      "858/858 [==============================] - 5s 5ms/step - loss: 0.0030 - accuracy: 0.9992 - val_loss: 0.3655 - val_accuracy: 0.9545\n",
      "Epoch 13/20\n",
      "858/858 [==============================] - 5s 5ms/step - loss: 0.0014 - accuracy: 0.9996 - val_loss: 0.4395 - val_accuracy: 0.9283\n",
      "Epoch 14/20\n",
      "858/858 [==============================] - 5s 5ms/step - loss: 0.0037 - accuracy: 0.9992 - val_loss: 1.0358 - val_accuracy: 0.8603\n",
      "Epoch 15/20\n",
      "858/858 [==============================] - 5s 5ms/step - loss: 0.0011 - accuracy: 0.9995 - val_loss: 1.0948 - val_accuracy: 0.8539\n",
      "Epoch 16/20\n",
      "858/858 [==============================] - 5s 5ms/step - loss: 0.0030 - accuracy: 0.9995 - val_loss: 0.5075 - val_accuracy: 0.9212\n",
      "Epoch 17/20\n",
      "858/858 [==============================] - 5s 5ms/step - loss: 0.0015 - accuracy: 0.9996 - val_loss: 0.8205 - val_accuracy: 0.8894\n",
      "Epoch 18/20\n",
      "858/858 [==============================] - 5s 5ms/step - loss: 0.0016 - accuracy: 0.9997 - val_loss: 0.5422 - val_accuracy: 0.9349\n",
      "Epoch 19/20\n",
      "858/858 [==============================] - 5s 5ms/step - loss: 0.0015 - accuracy: 0.9995 - val_loss: 0.9929 - val_accuracy: 0.8825\n",
      "Epoch 20/20\n",
      "858/858 [==============================] - 5s 5ms/step - loss: 2.4992e-04 - accuracy: 0.9999 - val_loss: 1.1932 - val_accuracy: 0.8648\n"
     ]
    },
    {
     "data": {
      "text/plain": [
       "<tensorflow.python.keras.callbacks.History at 0x7f2f348cf940>"
      ]
     },
     "execution_count": 10,
     "metadata": {},
     "output_type": "execute_result"
    }
   ],
   "source": [
    "model.fit(x_train, y_train, epochs=20, verbose=1, validation_data=(x_valid, y_valid))"
   ]
  },
  {
   "cell_type": "code",
   "execution_count": null,
   "metadata": {},
   "outputs": [],
   "source": []
  },
  {
   "cell_type": "code",
   "execution_count": null,
   "metadata": {},
   "outputs": [],
   "source": []
  }
 ],
 "metadata": {
  "kernelspec": {
   "display_name": "Python 3",
   "language": "python",
   "name": "python3"
  },
  "language_info": {
   "codemirror_mode": {
    "name": "ipython",
    "version": 3
   },
   "file_extension": ".py",
   "mimetype": "text/x-python",
   "name": "python",
   "nbconvert_exporter": "python",
   "pygments_lexer": "ipython3",
   "version": "3.6.9"
  }
 },
 "nbformat": 4,
 "nbformat_minor": 4
}
